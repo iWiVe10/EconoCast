{
  "nbformat": 4,
  "nbformat_minor": 0,
  "metadata": {
    "colab": {
      "provenance": []
    },
    "kernelspec": {
      "name": "python3",
      "display_name": "Python 3"
    },
    "language_info": {
      "name": "python"
    }
  },
  "cells": [
    {
      "cell_type": "code",
      "source": [
        "!pip install --upgrade pandas"
      ],
      "metadata": {
        "id": "RTRa40_UYmp3",
        "colab": {
          "base_uri": "https://localhost:8080/"
        },
        "outputId": "9175615c-cce4-4f75-aeb8-c02c96b6a1fb"
      },
      "execution_count": 1,
      "outputs": [
        {
          "output_type": "stream",
          "name": "stdout",
          "text": [
            "Requirement already satisfied: pandas in /usr/local/lib/python3.11/dist-packages (2.2.2)\n",
            "Collecting pandas\n",
            "  Downloading pandas-2.2.3-cp311-cp311-manylinux_2_17_x86_64.manylinux2014_x86_64.whl.metadata (89 kB)\n",
            "\u001b[2K     \u001b[90m━━━━━━━━━━━━━━━━━━━━━━━━━━━━━━━━━━━━━━━━\u001b[0m \u001b[32m89.9/89.9 kB\u001b[0m \u001b[31m2.2 MB/s\u001b[0m eta \u001b[36m0:00:00\u001b[0m\n",
            "\u001b[?25hRequirement already satisfied: numpy>=1.23.2 in /usr/local/lib/python3.11/dist-packages (from pandas) (1.26.4)\n",
            "Requirement already satisfied: python-dateutil>=2.8.2 in /usr/local/lib/python3.11/dist-packages (from pandas) (2.8.2)\n",
            "Requirement already satisfied: pytz>=2020.1 in /usr/local/lib/python3.11/dist-packages (from pandas) (2025.1)\n",
            "Requirement already satisfied: tzdata>=2022.7 in /usr/local/lib/python3.11/dist-packages (from pandas) (2025.1)\n",
            "Requirement already satisfied: six>=1.5 in /usr/local/lib/python3.11/dist-packages (from python-dateutil>=2.8.2->pandas) (1.17.0)\n",
            "Downloading pandas-2.2.3-cp311-cp311-manylinux_2_17_x86_64.manylinux2014_x86_64.whl (13.1 MB)\n",
            "\u001b[2K   \u001b[90m━━━━━━━━━━━━━━━━━━━━━━━━━━━━━━━━━━━━━━━━\u001b[0m \u001b[32m13.1/13.1 MB\u001b[0m \u001b[31m58.2 MB/s\u001b[0m eta \u001b[36m0:00:00\u001b[0m\n",
            "\u001b[?25hInstalling collected packages: pandas\n",
            "  Attempting uninstall: pandas\n",
            "    Found existing installation: pandas 2.2.2\n",
            "    Uninstalling pandas-2.2.2:\n",
            "      Successfully uninstalled pandas-2.2.2\n",
            "\u001b[31mERROR: pip's dependency resolver does not currently take into account all the packages that are installed. This behaviour is the source of the following dependency conflicts.\n",
            "google-colab 1.0.0 requires pandas==2.2.2, but you have pandas 2.2.3 which is incompatible.\u001b[0m\u001b[31m\n",
            "\u001b[0mSuccessfully installed pandas-2.2.3\n"
          ]
        }
      ]
    },
    {
      "cell_type": "code",
      "execution_count": 2,
      "metadata": {
        "id": "w0wBQUn_LE4M"
      },
      "outputs": [],
      "source": [
        "import pandas as pd\n",
        "import numpy as np\n",
        "import matplotlib.pyplot as plt\n",
        "import seaborn as sns\n",
        "import statsmodels.api as sm\n",
        "from statsmodels.tsa.statespace.sarimax import SARIMAX\n",
        "from sklearn.metrics import mean_absolute_error, median_absolute_error, mean_squared_error, r2_score\n",
        "from itertools import product"
      ]
    },
    {
      "cell_type": "markdown",
      "source": [
        "## FUNCIONES AUXILIARES"
      ],
      "metadata": {
        "id": "rQa_1tonZAnL"
      }
    },
    {
      "cell_type": "code",
      "source": [
        "def predecir_n_meses(model, X_actual, exog_vars, n_meses):\n",
        "    \"\"\" Predice la inflación mensual para los próximos 'n_meses' \"\"\"\n",
        "\n",
        "    # 📌 Convertir el índice de X_actual a `DatetimeIndex` si no lo es\n",
        "    if not isinstance(X_actual.index, pd.DatetimeIndex):\n",
        "        X_actual.index = pd.to_datetime(X_actual.index)\n",
        "\n",
        "    # 📌 Definir fechas futuras\n",
        "    inicio_pred = X_actual.index[-1] + pd.DateOffset(months=1)\n",
        "    fechas_futuras = pd.date_range(start=inicio_pred, periods=n_meses, freq=\"ME\")\n",
        "\n",
        "    # 📌 Ajustar el índice de fechas futuras según el modelo\n",
        "    if isinstance(model.data.row_labels, pd.PeriodIndex):\n",
        "        fechas_futuras = fechas_futuras.to_period('M')  # Convertir a PeriodIndex\n",
        "    elif isinstance(model.data.row_labels, pd.Index) and model.data.row_labels.dtype == \"int64\":\n",
        "        fechas_futuras = range(model.data.row_labels[-1] + 1, model.data.row_labels[-1] + 1 + n_meses)\n",
        "\n",
        "    # 📌 Generar datos exógenos futuros replicando la última fila de X_actual\n",
        "    X_future = pd.DataFrame([X_actual.iloc[-1].values] * n_meses,\n",
        "                            columns=X_actual.columns, index=fechas_futuras)\n",
        "\n",
        "    # 📌 Predecir valores futuros asegurando compatibilidad del índice\n",
        "    y_futuro = model.predict(start=fechas_futuras[0], end=fechas_futuras[-1], exog=X_future[exog_vars])\n",
        "\n",
        "    return pd.DataFrame({'Fecha': fechas_futuras, 'Predicción': y_futuro.values})\n"
      ],
      "metadata": {
        "id": "RYwdRWVaW_oA"
      },
      "execution_count": 3,
      "outputs": []
    },
    {
      "cell_type": "code",
      "source": [
        "def smape(y_true, y_pred):\n",
        "    \"\"\" Calcula el Symmetric Mean Absolute Percentage Error (SMAPE) \"\"\"\n",
        "    return 100 * np.mean(2 * np.abs(y_pred - y_true) / (np.abs(y_true) + np.abs(y_pred)))"
      ],
      "metadata": {
        "id": "KN2zO4yAYmC_"
      },
      "execution_count": 4,
      "outputs": []
    },
    {
      "cell_type": "markdown",
      "source": [
        "## PREPROCESAMIENTO"
      ],
      "metadata": {
        "id": "ASM88t2AZNwx"
      }
    },
    {
      "cell_type": "code",
      "source": [
        "df = pd.read_csv(\"/content/Data_Econocast - Hoja 1.csv\")"
      ],
      "metadata": {
        "id": "Z92uKOGWQbwg"
      },
      "execution_count": 5,
      "outputs": []
    },
    {
      "cell_type": "code",
      "source": [
        "meses = {'enero': 1, 'febrero':2, 'marzo':3, 'abril': 4, 'mayo':5, 'junio': 6,\n",
        "         'julio':7, 'agosto': 8, 'septiembre': 9, 'octubre':10, 'noviembre': 11, 'diciembre':12}"
      ],
      "metadata": {
        "id": "_o4tjv3_Qeql"
      },
      "execution_count": 6,
      "outputs": []
    },
    {
      "cell_type": "code",
      "source": [
        "df['mes_num'] = df['mes'].str.lower().map(meses)"
      ],
      "metadata": {
        "id": "oVA7RE6pQhn_"
      },
      "execution_count": 7,
      "outputs": []
    },
    {
      "cell_type": "code",
      "source": [
        "df['fecha'] = pd.to_datetime({'year': df['anio'], 'month': df['mes_num'], 'day': 1})"
      ],
      "metadata": {
        "id": "d_IhLesxQkEG"
      },
      "execution_count": 8,
      "outputs": []
    },
    {
      "cell_type": "code",
      "source": [
        "df.sort_values('fecha', inplace=True)"
      ],
      "metadata": {
        "id": "0Se2G_4WQksc"
      },
      "execution_count": 9,
      "outputs": []
    },
    {
      "cell_type": "markdown",
      "source": [
        "### Calculo de la inflación"
      ],
      "metadata": {
        "id": "8jjasfkXEmjR"
      }
    },
    {
      "cell_type": "code",
      "source": [
        "# Calcular la inflación\n",
        "df[\"Inflación Mensual (%)\"] = df[\"indice_ipc_general\"].pct_change() * 100\n",
        "df[\"Inflación Interanual (%)\"] = df[\"indice_ipc_general\"].pct_change(periods=12) * 100"
      ],
      "metadata": {
        "id": "hxI47W3dQp9s"
      },
      "execution_count": 10,
      "outputs": []
    },
    {
      "cell_type": "code",
      "source": [
        "# Convertir x rubros\n",
        "\n",
        "# alimentos_bebidas_sin_alcohol\n",
        "df[\"alimentos_bebidas_sin_alcohol M(%)\"] = df[\"alimentos_bebidas_sin_alcohol\"].pct_change() * 100\n",
        "df[\"alimentos_bebidas_sin_alcohol I(%)\"] = df[\"alimentos_bebidas_sin_alcohol\"].pct_change(periods=12) * 100\n",
        "\n",
        "# bebidas_alcoholicas_tabaco\n",
        "df[\"bebidas_alcoholicas_tabaco M(%)\"] = df[\"bebidas_alcoholicas_tabaco\"].pct_change() * 100\n",
        "df[\"bebidas_alcoholicas_tabaco I(%)\"] = df[\"bebidas_alcoholicas_tabaco\"].pct_change(periods=12) * 100\n",
        "\n",
        "# prendas_de_vestir_calzado\n",
        "df[\"prendas_de_vestir_calzado M(%)\"] = df[\"prendas_de_vestir_calzado\"].pct_change() * 100\n",
        "df[\"prendas_de_vestir_calzado I(%)\"] = df[\"prendas_de_vestir_calzado\"].pct_change(periods=12) * 100\n",
        "\n",
        "# alojamiento_agua_electricidad_gas_otroscomb\n",
        "df[\"alojamiento_agua_electricidad_gas_otroscomb M(%)\"] = df[\"alojamiento_agua_electricidad_gas_otroscomb\"].pct_change() * 100\n",
        "df[\"alojamiento_agua_electricidad_gas_otroscomb I(%)\"] = df[\"alojamiento_agua_electricidad_gas_otroscomb\"].pct_change(periods=12) * 100\n",
        "\n",
        "# muebles_articulos_hogar\n",
        "df[\"muebles_articulos_hogar M(%)\"] = df[\"muebles_articulos_hogar\"].pct_change() * 100\n",
        "df[\"muebles_articulos_hogar I(%)\"] = df[\"muebles_articulos_hogar\"].pct_change(periods=12) * 100\n",
        "\n",
        "# salud\n",
        "df[\"salud M(%)\"] = df[\"salud\"].pct_change() * 100\n",
        "df[\"salud I(%)\"] = df[\"salud\"].pct_change(periods=12) * 100\n",
        "\n",
        "# transporte\n",
        "df[\"transporte M(%)\"] = df[\"transporte\"].pct_change() * 100\n",
        "df[\"transporte I(%)\"] = df[\"transporte\"].pct_change(periods=12) * 100\n",
        "\n",
        "# comunicaciones\n",
        "df[\"comunicaciones M(%)\"] = df[\"comunicaciones\"].pct_change() * 100\n",
        "df[\"comunicaciones I(%)\"] = df[\"comunicaciones\"].pct_change(periods=12) * 100\n",
        "\n",
        "# recreacion _cultura\n",
        "df[\"recreacion _cultura M(%)\"] = df[\"recreacion _cultura\"].pct_change() * 100\n",
        "df[\"recreacion _cultura I(%)\"] = df[\"recreacion _cultura\"].pct_change(periods=12) * 100\n",
        "\n",
        "# educacion\n",
        "df[\"educacion M(%)\"] = df[\"educacion\"].pct_change() * 100\n",
        "df[\"educacion I(%)\"] = df[\"educacion\"].pct_change(periods=12) * 100\n",
        "\n",
        "# restaurantes_hoteles\n",
        "df[\"restaurantes_hoteles M(%)\"] = df[\"restaurantes_hoteles\"].pct_change() * 100\n",
        "df[\"restaurantes_hoteles I(%)\"] = df[\"restaurantes_hoteles\"].pct_change(periods=12) * 100\n",
        "\n",
        "# cuidado_personal\n",
        "df[\"cuidado_personal M(%)\"] = df[\"cuidado_personal\"].pct_change() * 100\n",
        "df[\"cuidado_personal I(%)\"] = df[\"cuidado_personal\"].pct_change(periods=12) * 10\n"
      ],
      "metadata": {
        "id": "X9c5-WPe6qlN"
      },
      "execution_count": 11,
      "outputs": []
    },
    {
      "cell_type": "markdown",
      "source": [
        "### NAs"
      ],
      "metadata": {
        "id": "1yXNx9ZyEuZ7"
      }
    },
    {
      "cell_type": "code",
      "source": [
        "# Inflación Mensual (%)\n",
        "df[['Inflación Mensual (%)', 'Inflación Interanual (%)']] = df[['Inflación Mensual (%)', 'Inflación Interanual (%)']].ffill()\n",
        "df[['Inflación Mensual (%)', 'Inflación Interanual (%)']] = df[['Inflación Mensual (%)', 'Inflación Interanual (%)']].bfill()"
      ],
      "metadata": {
        "id": "XvoMC6ogjCw4"
      },
      "execution_count": 12,
      "outputs": []
    },
    {
      "cell_type": "code",
      "source": [
        "# alimentos_bebidas_sin_alcohol\n",
        "df[['alimentos_bebidas_sin_alcohol M(%)', 'alimentos_bebidas_sin_alcohol I(%)']] = df[['alimentos_bebidas_sin_alcohol M(%)', 'alimentos_bebidas_sin_alcohol I(%)']].ffill()\n",
        "df[['alimentos_bebidas_sin_alcohol M(%)', 'alimentos_bebidas_sin_alcohol I(%)']] = df[['alimentos_bebidas_sin_alcohol M(%)', 'alimentos_bebidas_sin_alcohol I(%)']].bfill()\n",
        "\n",
        "# bebidas_alcoholicas_tabaco\n",
        "df[['bebidas_alcoholicas_tabaco M(%)', 'bebidas_alcoholicas_tabaco I(%)']] = df[['bebidas_alcoholicas_tabaco M(%)', 'bebidas_alcoholicas_tabaco I(%)']].ffill()\n",
        "df[['bebidas_alcoholicas_tabaco M(%)', 'bebidas_alcoholicas_tabaco I(%)']] = df[['bebidas_alcoholicas_tabaco M(%)', 'bebidas_alcoholicas_tabaco I(%)']].bfill()\n",
        "\n",
        "# prendas_de_vestir_calzado\n",
        "df[['prendas_de_vestir_calzado M(%)', 'prendas_de_vestir_calzado I(%)']] = df[['prendas_de_vestir_calzado M(%)', 'prendas_de_vestir_calzado I(%)']].ffill()\n",
        "df[['prendas_de_vestir_calzado M(%)', 'prendas_de_vestir_calzado I(%)']] = df[['prendas_de_vestir_calzado M(%)', 'prendas_de_vestir_calzado I(%)']].bfill()\n",
        "\n",
        "# alojamiento_agua_electricidad_gas_otroscomb\n",
        "df[['alojamiento_agua_electricidad_gas_otroscomb M(%)', 'alojamiento_agua_electricidad_gas_otroscomb I(%)']] = df[['alojamiento_agua_electricidad_gas_otroscomb M(%)', 'alojamiento_agua_electricidad_gas_otroscomb I(%)']].ffill()\n",
        "df[['alojamiento_agua_electricidad_gas_otroscomb M(%)', 'alojamiento_agua_electricidad_gas_otroscomb I(%)']] = df[['alojamiento_agua_electricidad_gas_otroscomb M(%)', 'alojamiento_agua_electricidad_gas_otroscomb I(%)']].bfill()\n",
        "\n",
        "# muebles_articulos_hogar\n",
        "df[['muebles_articulos_hogar M(%)', 'muebles_articulos_hogar I(%)']] = df[['muebles_articulos_hogar M(%)', 'muebles_articulos_hogar I(%)']].ffill()\n",
        "df[['muebles_articulos_hogar M(%)', 'muebles_articulos_hogar I(%)']] = df[['muebles_articulos_hogar M(%)', 'muebles_articulos_hogar I(%)']].bfill()\n",
        "\n",
        "# salud\n",
        "df[['salud M(%)', 'salud I(%)']] = df[['salud M(%)', 'salud I(%)']].ffill()\n",
        "df[['salud M(%)', 'salud I(%)']] = df[['salud M(%)', 'salud I(%)']].bfill()\n",
        "\n",
        "# transporte\n",
        "df[['transporte M(%)', 'transporte I(%)']] = df[['transporte M(%)', 'transporte I(%)']].ffill()\n",
        "df[['transporte M(%)', 'transporte I(%)']] = df[['transporte M(%)', 'transporte I(%)']].bfill()\n",
        "\n",
        "# comunicaciones\n",
        "df[['comunicaciones M(%)', 'comunicaciones I(%)']] = df[['comunicaciones M(%)', 'comunicaciones I(%)']].ffill()\n",
        "df[['comunicaciones M(%)', 'comunicaciones I(%)']] = df[['comunicaciones M(%)', 'comunicaciones I(%)']].bfill()\n",
        "\n",
        "# recreacion _cultura\n",
        "df[['recreacion _cultura M(%)', 'recreacion _cultura I(%)']] = df[['recreacion _cultura M(%)', 'recreacion _cultura I(%)']].ffill()\n",
        "df[['recreacion _cultura M(%)', 'recreacion _cultura I(%)']] = df[['recreacion _cultura M(%)', 'recreacion _cultura I(%)']].bfill()\n",
        "\n",
        "# educacion\n",
        "df[['educacion M(%)', 'educacion I(%)']] = df[['educacion M(%)', 'educacion I(%)']].ffill()\n",
        "df[['educacion M(%)', 'educacion I(%)']] = df[['educacion M(%)', 'educacion I(%)']].bfill()\n",
        "\n",
        "# restaurantes_hoteles\n",
        "df[['restaurantes_hoteles M(%)', 'restaurantes_hoteles I(%)']] = df[['restaurantes_hoteles M(%)', 'restaurantes_hoteles I(%)']].ffill()\n",
        "df[['restaurantes_hoteles M(%)', 'restaurantes_hoteles I(%)']] = df[['restaurantes_hoteles M(%)', 'restaurantes_hoteles I(%)']].bfill()\n",
        "\n",
        "# cuidado_personal\n",
        "df[['cuidado_personal M(%)', 'cuidado_personal I(%)']] = df[['cuidado_personal M(%)', 'cuidado_personal I(%)']].ffill()\n",
        "df[['cuidado_personal M(%)', 'cuidado_personal I(%)']] = df[['cuidado_personal M(%)', 'cuidado_personal I(%)']].bfill()\n"
      ],
      "metadata": {
        "id": "q23G1mEWE38v"
      },
      "execution_count": 13,
      "outputs": []
    },
    {
      "cell_type": "code",
      "source": [
        "df[['alimentos_bebidas_sin_alcohol M(%)', 'alimentos_bebidas_sin_alcohol I(%)']]"
      ],
      "metadata": {
        "colab": {
          "base_uri": "https://localhost:8080/",
          "height": 423
        },
        "id": "Da982cjuVvzs",
        "outputId": "61c19bdc-c233-42a0-d7a8-83631b1fc314"
      },
      "execution_count": 14,
      "outputs": [
        {
          "output_type": "execute_result",
          "data": {
            "text/plain": [
              "     alimentos_bebidas_sin_alcohol M(%)  alimentos_bebidas_sin_alcohol I(%)\n",
              "0                              4.911839                           20.403023\n",
              "1                              4.911839                           20.403023\n",
              "2                              1.840736                           20.403023\n",
              "3                              1.728880                           20.403023\n",
              "4                              2.742372                           20.403023\n",
              "..                                  ...                                 ...\n",
              "404                           -0.893522                            4.419456\n",
              "405                           -0.976709                            2.701299\n",
              "406                           -0.025291                            1.986584\n",
              "407                            0.581837                            1.480347\n",
              "408                            0.804829                            2.427805\n",
              "\n",
              "[409 rows x 2 columns]"
            ],
            "text/html": [
              "\n",
              "  <div id=\"df-850cd229-2b02-437a-8361-5e6c35caa902\" class=\"colab-df-container\">\n",
              "    <div>\n",
              "<style scoped>\n",
              "    .dataframe tbody tr th:only-of-type {\n",
              "        vertical-align: middle;\n",
              "    }\n",
              "\n",
              "    .dataframe tbody tr th {\n",
              "        vertical-align: top;\n",
              "    }\n",
              "\n",
              "    .dataframe thead th {\n",
              "        text-align: right;\n",
              "    }\n",
              "</style>\n",
              "<table border=\"1\" class=\"dataframe\">\n",
              "  <thead>\n",
              "    <tr style=\"text-align: right;\">\n",
              "      <th></th>\n",
              "      <th>alimentos_bebidas_sin_alcohol M(%)</th>\n",
              "      <th>alimentos_bebidas_sin_alcohol I(%)</th>\n",
              "    </tr>\n",
              "  </thead>\n",
              "  <tbody>\n",
              "    <tr>\n",
              "      <th>0</th>\n",
              "      <td>4.911839</td>\n",
              "      <td>20.403023</td>\n",
              "    </tr>\n",
              "    <tr>\n",
              "      <th>1</th>\n",
              "      <td>4.911839</td>\n",
              "      <td>20.403023</td>\n",
              "    </tr>\n",
              "    <tr>\n",
              "      <th>2</th>\n",
              "      <td>1.840736</td>\n",
              "      <td>20.403023</td>\n",
              "    </tr>\n",
              "    <tr>\n",
              "      <th>3</th>\n",
              "      <td>1.728880</td>\n",
              "      <td>20.403023</td>\n",
              "    </tr>\n",
              "    <tr>\n",
              "      <th>4</th>\n",
              "      <td>2.742372</td>\n",
              "      <td>20.403023</td>\n",
              "    </tr>\n",
              "    <tr>\n",
              "      <th>...</th>\n",
              "      <td>...</td>\n",
              "      <td>...</td>\n",
              "    </tr>\n",
              "    <tr>\n",
              "      <th>404</th>\n",
              "      <td>-0.893522</td>\n",
              "      <td>4.419456</td>\n",
              "    </tr>\n",
              "    <tr>\n",
              "      <th>405</th>\n",
              "      <td>-0.976709</td>\n",
              "      <td>2.701299</td>\n",
              "    </tr>\n",
              "    <tr>\n",
              "      <th>406</th>\n",
              "      <td>-0.025291</td>\n",
              "      <td>1.986584</td>\n",
              "    </tr>\n",
              "    <tr>\n",
              "      <th>407</th>\n",
              "      <td>0.581837</td>\n",
              "      <td>1.480347</td>\n",
              "    </tr>\n",
              "    <tr>\n",
              "      <th>408</th>\n",
              "      <td>0.804829</td>\n",
              "      <td>2.427805</td>\n",
              "    </tr>\n",
              "  </tbody>\n",
              "</table>\n",
              "<p>409 rows × 2 columns</p>\n",
              "</div>\n",
              "    <div class=\"colab-df-buttons\">\n",
              "\n",
              "  <div class=\"colab-df-container\">\n",
              "    <button class=\"colab-df-convert\" onclick=\"convertToInteractive('df-850cd229-2b02-437a-8361-5e6c35caa902')\"\n",
              "            title=\"Convert this dataframe to an interactive table.\"\n",
              "            style=\"display:none;\">\n",
              "\n",
              "  <svg xmlns=\"http://www.w3.org/2000/svg\" height=\"24px\" viewBox=\"0 -960 960 960\">\n",
              "    <path d=\"M120-120v-720h720v720H120Zm60-500h600v-160H180v160Zm220 220h160v-160H400v160Zm0 220h160v-160H400v160ZM180-400h160v-160H180v160Zm440 0h160v-160H620v160ZM180-180h160v-160H180v160Zm440 0h160v-160H620v160Z\"/>\n",
              "  </svg>\n",
              "    </button>\n",
              "\n",
              "  <style>\n",
              "    .colab-df-container {\n",
              "      display:flex;\n",
              "      gap: 12px;\n",
              "    }\n",
              "\n",
              "    .colab-df-convert {\n",
              "      background-color: #E8F0FE;\n",
              "      border: none;\n",
              "      border-radius: 50%;\n",
              "      cursor: pointer;\n",
              "      display: none;\n",
              "      fill: #1967D2;\n",
              "      height: 32px;\n",
              "      padding: 0 0 0 0;\n",
              "      width: 32px;\n",
              "    }\n",
              "\n",
              "    .colab-df-convert:hover {\n",
              "      background-color: #E2EBFA;\n",
              "      box-shadow: 0px 1px 2px rgba(60, 64, 67, 0.3), 0px 1px 3px 1px rgba(60, 64, 67, 0.15);\n",
              "      fill: #174EA6;\n",
              "    }\n",
              "\n",
              "    .colab-df-buttons div {\n",
              "      margin-bottom: 4px;\n",
              "    }\n",
              "\n",
              "    [theme=dark] .colab-df-convert {\n",
              "      background-color: #3B4455;\n",
              "      fill: #D2E3FC;\n",
              "    }\n",
              "\n",
              "    [theme=dark] .colab-df-convert:hover {\n",
              "      background-color: #434B5C;\n",
              "      box-shadow: 0px 1px 3px 1px rgba(0, 0, 0, 0.15);\n",
              "      filter: drop-shadow(0px 1px 2px rgba(0, 0, 0, 0.3));\n",
              "      fill: #FFFFFF;\n",
              "    }\n",
              "  </style>\n",
              "\n",
              "    <script>\n",
              "      const buttonEl =\n",
              "        document.querySelector('#df-850cd229-2b02-437a-8361-5e6c35caa902 button.colab-df-convert');\n",
              "      buttonEl.style.display =\n",
              "        google.colab.kernel.accessAllowed ? 'block' : 'none';\n",
              "\n",
              "      async function convertToInteractive(key) {\n",
              "        const element = document.querySelector('#df-850cd229-2b02-437a-8361-5e6c35caa902');\n",
              "        const dataTable =\n",
              "          await google.colab.kernel.invokeFunction('convertToInteractive',\n",
              "                                                    [key], {});\n",
              "        if (!dataTable) return;\n",
              "\n",
              "        const docLinkHtml = 'Like what you see? Visit the ' +\n",
              "          '<a target=\"_blank\" href=https://colab.research.google.com/notebooks/data_table.ipynb>data table notebook</a>'\n",
              "          + ' to learn more about interactive tables.';\n",
              "        element.innerHTML = '';\n",
              "        dataTable['output_type'] = 'display_data';\n",
              "        await google.colab.output.renderOutput(dataTable, element);\n",
              "        const docLink = document.createElement('div');\n",
              "        docLink.innerHTML = docLinkHtml;\n",
              "        element.appendChild(docLink);\n",
              "      }\n",
              "    </script>\n",
              "  </div>\n",
              "\n",
              "\n",
              "<div id=\"df-200bf917-c11c-4f8c-b454-512e606ff39c\">\n",
              "  <button class=\"colab-df-quickchart\" onclick=\"quickchart('df-200bf917-c11c-4f8c-b454-512e606ff39c')\"\n",
              "            title=\"Suggest charts\"\n",
              "            style=\"display:none;\">\n",
              "\n",
              "<svg xmlns=\"http://www.w3.org/2000/svg\" height=\"24px\"viewBox=\"0 0 24 24\"\n",
              "     width=\"24px\">\n",
              "    <g>\n",
              "        <path d=\"M19 3H5c-1.1 0-2 .9-2 2v14c0 1.1.9 2 2 2h14c1.1 0 2-.9 2-2V5c0-1.1-.9-2-2-2zM9 17H7v-7h2v7zm4 0h-2V7h2v10zm4 0h-2v-4h2v4z\"/>\n",
              "    </g>\n",
              "</svg>\n",
              "  </button>\n",
              "\n",
              "<style>\n",
              "  .colab-df-quickchart {\n",
              "      --bg-color: #E8F0FE;\n",
              "      --fill-color: #1967D2;\n",
              "      --hover-bg-color: #E2EBFA;\n",
              "      --hover-fill-color: #174EA6;\n",
              "      --disabled-fill-color: #AAA;\n",
              "      --disabled-bg-color: #DDD;\n",
              "  }\n",
              "\n",
              "  [theme=dark] .colab-df-quickchart {\n",
              "      --bg-color: #3B4455;\n",
              "      --fill-color: #D2E3FC;\n",
              "      --hover-bg-color: #434B5C;\n",
              "      --hover-fill-color: #FFFFFF;\n",
              "      --disabled-bg-color: #3B4455;\n",
              "      --disabled-fill-color: #666;\n",
              "  }\n",
              "\n",
              "  .colab-df-quickchart {\n",
              "    background-color: var(--bg-color);\n",
              "    border: none;\n",
              "    border-radius: 50%;\n",
              "    cursor: pointer;\n",
              "    display: none;\n",
              "    fill: var(--fill-color);\n",
              "    height: 32px;\n",
              "    padding: 0;\n",
              "    width: 32px;\n",
              "  }\n",
              "\n",
              "  .colab-df-quickchart:hover {\n",
              "    background-color: var(--hover-bg-color);\n",
              "    box-shadow: 0 1px 2px rgba(60, 64, 67, 0.3), 0 1px 3px 1px rgba(60, 64, 67, 0.15);\n",
              "    fill: var(--button-hover-fill-color);\n",
              "  }\n",
              "\n",
              "  .colab-df-quickchart-complete:disabled,\n",
              "  .colab-df-quickchart-complete:disabled:hover {\n",
              "    background-color: var(--disabled-bg-color);\n",
              "    fill: var(--disabled-fill-color);\n",
              "    box-shadow: none;\n",
              "  }\n",
              "\n",
              "  .colab-df-spinner {\n",
              "    border: 2px solid var(--fill-color);\n",
              "    border-color: transparent;\n",
              "    border-bottom-color: var(--fill-color);\n",
              "    animation:\n",
              "      spin 1s steps(1) infinite;\n",
              "  }\n",
              "\n",
              "  @keyframes spin {\n",
              "    0% {\n",
              "      border-color: transparent;\n",
              "      border-bottom-color: var(--fill-color);\n",
              "      border-left-color: var(--fill-color);\n",
              "    }\n",
              "    20% {\n",
              "      border-color: transparent;\n",
              "      border-left-color: var(--fill-color);\n",
              "      border-top-color: var(--fill-color);\n",
              "    }\n",
              "    30% {\n",
              "      border-color: transparent;\n",
              "      border-left-color: var(--fill-color);\n",
              "      border-top-color: var(--fill-color);\n",
              "      border-right-color: var(--fill-color);\n",
              "    }\n",
              "    40% {\n",
              "      border-color: transparent;\n",
              "      border-right-color: var(--fill-color);\n",
              "      border-top-color: var(--fill-color);\n",
              "    }\n",
              "    60% {\n",
              "      border-color: transparent;\n",
              "      border-right-color: var(--fill-color);\n",
              "    }\n",
              "    80% {\n",
              "      border-color: transparent;\n",
              "      border-right-color: var(--fill-color);\n",
              "      border-bottom-color: var(--fill-color);\n",
              "    }\n",
              "    90% {\n",
              "      border-color: transparent;\n",
              "      border-bottom-color: var(--fill-color);\n",
              "    }\n",
              "  }\n",
              "</style>\n",
              "\n",
              "  <script>\n",
              "    async function quickchart(key) {\n",
              "      const quickchartButtonEl =\n",
              "        document.querySelector('#' + key + ' button');\n",
              "      quickchartButtonEl.disabled = true;  // To prevent multiple clicks.\n",
              "      quickchartButtonEl.classList.add('colab-df-spinner');\n",
              "      try {\n",
              "        const charts = await google.colab.kernel.invokeFunction(\n",
              "            'suggestCharts', [key], {});\n",
              "      } catch (error) {\n",
              "        console.error('Error during call to suggestCharts:', error);\n",
              "      }\n",
              "      quickchartButtonEl.classList.remove('colab-df-spinner');\n",
              "      quickchartButtonEl.classList.add('colab-df-quickchart-complete');\n",
              "    }\n",
              "    (() => {\n",
              "      let quickchartButtonEl =\n",
              "        document.querySelector('#df-200bf917-c11c-4f8c-b454-512e606ff39c button');\n",
              "      quickchartButtonEl.style.display =\n",
              "        google.colab.kernel.accessAllowed ? 'block' : 'none';\n",
              "    })();\n",
              "  </script>\n",
              "</div>\n",
              "\n",
              "    </div>\n",
              "  </div>\n"
            ],
            "application/vnd.google.colaboratory.intrinsic+json": {
              "type": "dataframe",
              "summary": "{\n  \"name\": \"df[['alimentos_bebidas_sin_alcohol M(%)', 'alimentos_bebidas_sin_alcohol I(%)']]\",\n  \"rows\": 409,\n  \"fields\": [\n    {\n      \"column\": \"alimentos_bebidas_sin_alcohol M(%)\",\n      \"properties\": {\n        \"dtype\": \"number\",\n        \"std\": 1.1433107646183356,\n        \"min\": -2.5996533795493937,\n        \"max\": 6.257706535141794,\n        \"num_unique_values\": 400,\n        \"samples\": [\n          0.8044243338360957,\n          1.603206412825653,\n          0.8257151282807573\n        ],\n        \"semantic_type\": \"\",\n        \"description\": \"\"\n      }\n    },\n    {\n      \"column\": \"alimentos_bebidas_sin_alcohol I(%)\",\n      \"properties\": {\n        \"dtype\": \"number\",\n        \"std\": 8.226224708489937,\n        \"min\": -5.184108527131793,\n        \"max\": 38.346666666666685,\n        \"num_unique_values\": 396,\n        \"samples\": [\n          13.39853300733498,\n          5.23927392739274,\n          3.8972948188904066\n        ],\n        \"semantic_type\": \"\",\n        \"description\": \"\"\n      }\n    }\n  ]\n}"
            }
          },
          "metadata": {},
          "execution_count": 14
        }
      ]
    },
    {
      "cell_type": "code",
      "source": [
        "df['precio_promedio_venta_USD'] = df['precio_promedio_venta_USD'].fillna(df['precio_promedio_venta_USD'].median())\n",
        "df['promedio_valor_USD_anual'] = df['promedio_valor_USD_anual'].fillna(df['promedio_valor_USD_anual'].median())"
      ],
      "metadata": {
        "id": "KSxiykitQwd8"
      },
      "execution_count": 15,
      "outputs": []
    },
    {
      "cell_type": "code",
      "source": [
        "df['importaciones_valor_usd'] = (\n",
        "    df['importaciones_valor_usd']\n",
        "    .str.replace(',', '', regex=True)  # Elimina las comas de los números\n",
        "    .astype(float)  # Convierte a tipo numérico\n",
        ")\n",
        "\n",
        "df['importaciones_valor_usd'] = df['importaciones_valor_usd'].fillna(df['importaciones_valor_usd'].median())"
      ],
      "metadata": {
        "id": "y2TKi5GOQzR7"
      },
      "execution_count": 16,
      "outputs": []
    },
    {
      "cell_type": "code",
      "source": [
        "df['importaciones_volumen_kg'] = (\n",
        "    df['importaciones_volumen_kg']\n",
        "    .str.replace(',', '', regex=True)  # Elimina las comas de los números\n",
        "    .astype(float)  # Convierte a tipo numérico\n",
        ")\n",
        "\n",
        "df['importaciones_volumen_kg'] = df['importaciones_volumen_kg'].fillna(df['importaciones_volumen_kg'].median())"
      ],
      "metadata": {
        "id": "42jG61zpQ2hm"
      },
      "execution_count": 17,
      "outputs": []
    },
    {
      "cell_type": "code",
      "source": [
        "# Eliminar comas y convertir a tipo numérico\n",
        "df['exportaciones_valor_usd'] = (\n",
        "    df['exportaciones_valor_usd']\n",
        "    .astype(str)  # Asegura que todos los valores sean cadenas\n",
        "    .str.replace(',', '', regex=True)  # Elimina las comas\n",
        "    .astype(float)  # Convierte a tipo float\n",
        ")\n",
        "\n",
        "# Rellenar valores nulos con la mediana\n",
        "df['exportaciones_valor_usd'] = df['exportaciones_valor_usd'].fillna(df['exportaciones_valor_usd'].median())"
      ],
      "metadata": {
        "id": "SX_UIB0GQ9hI"
      },
      "execution_count": 18,
      "outputs": []
    },
    {
      "cell_type": "code",
      "source": [
        "# Eliminar comas y convertir a tipo numérico\n",
        "df['exportaciones_volumen_kg'] = (\n",
        "    df['exportaciones_volumen_kg']\n",
        "    .astype(str)  # Asegura que todos los valores sean cadenas\n",
        "    .str.replace(',', '', regex=True)  # Elimina las comas\n",
        "    .astype(float)  # Convierte a tipo float\n",
        ")\n",
        "\n",
        "# Rellenar valores nulos con la mediana\n",
        "df['exportaciones_volumen_kg'] = df['exportaciones_volumen_kg'].fillna(df['exportaciones_volumen_kg'].median())"
      ],
      "metadata": {
        "id": "A2WgXW1WRApM"
      },
      "execution_count": 19,
      "outputs": []
    },
    {
      "cell_type": "markdown",
      "source": [
        "## SPLIT"
      ],
      "metadata": {
        "id": "m4C18ofqRcA9"
      }
    },
    {
      "cell_type": "code",
      "source": [
        "features = df.drop(columns=['Inflación Mensual (%)', 'anio', 'mes', 'fecha'])\n",
        "target = df['Inflación Mensual (%)']"
      ],
      "metadata": {
        "id": "DeDp8H_jRZ35"
      },
      "execution_count": 20,
      "outputs": []
    },
    {
      "cell_type": "code",
      "source": [
        "train = df[df['anio'] <= 2019]\n",
        "val = df[(df['anio'] >= 2020) & (df['anio'] <= 2021)]\n",
        "test = df[(df['anio'] >= 2022) & (df['anio'] <= 2023)]\n",
        "set2024 = df[df['anio'] >= 2024]"
      ],
      "metadata": {
        "id": "ab2T3XfeRhT-"
      },
      "execution_count": 21,
      "outputs": []
    },
    {
      "cell_type": "code",
      "source": [
        "X_train, y_train = train[features.columns], train[target.name]\n",
        "X_val, y_val = val[features.columns], val[target.name]\n",
        "X_test, y_test = test[features.columns], test[target.name]\n",
        "X_2024, y_2024 = set2024[features.columns], set2024[target.name]"
      ],
      "metadata": {
        "id": "VJGE3hesRiXz"
      },
      "execution_count": 22,
      "outputs": []
    },
    {
      "cell_type": "markdown",
      "source": [
        "## VARIABLES EXOGENAS (sin = 'indice_ipc_general')"
      ],
      "metadata": {
        "id": "O5KaJwI4RlhK"
      }
    },
    {
      "cell_type": "code",
      "source": [
        "X_train.columns"
      ],
      "metadata": {
        "colab": {
          "base_uri": "https://localhost:8080/"
        },
        "id": "RU0uKPqEEKFV",
        "outputId": "67c58df9-2988-4284-8709-f474c759f657"
      },
      "execution_count": 23,
      "outputs": [
        {
          "output_type": "execute_result",
          "data": {
            "text/plain": [
              "Index(['precio_promedio_venta_USD', 'promedio_valor_USD_anual',\n",
              "       'alimentos_bebidas_sin_alcohol', 'bebidas_alcoholicas_tabaco',\n",
              "       'prendas_de_vestir_calzado',\n",
              "       'alojamiento_agua_electricidad_gas_otroscomb',\n",
              "       'muebles_articulos_hogar', 'salud', 'transporte', 'comunicaciones',\n",
              "       'recreacion _cultura', 'educacion', 'restaurantes_hoteles',\n",
              "       'cuidado_personal', 'indice_ipc_general', 'importaciones_valor_usd',\n",
              "       'importaciones_volumen_kg', 'exportaciones_valor_usd',\n",
              "       'exportaciones_volumen_kg', 'mes_num', 'Inflación Interanual (%)',\n",
              "       'alimentos_bebidas_sin_alcohol M(%)',\n",
              "       'alimentos_bebidas_sin_alcohol I(%)', 'bebidas_alcoholicas_tabaco M(%)',\n",
              "       'bebidas_alcoholicas_tabaco I(%)', 'prendas_de_vestir_calzado M(%)',\n",
              "       'prendas_de_vestir_calzado I(%)',\n",
              "       'alojamiento_agua_electricidad_gas_otroscomb M(%)',\n",
              "       'alojamiento_agua_electricidad_gas_otroscomb I(%)',\n",
              "       'muebles_articulos_hogar M(%)', 'muebles_articulos_hogar I(%)',\n",
              "       'salud M(%)', 'salud I(%)', 'transporte M(%)', 'transporte I(%)',\n",
              "       'comunicaciones M(%)', 'comunicaciones I(%)',\n",
              "       'recreacion _cultura M(%)', 'recreacion _cultura I(%)',\n",
              "       'educacion M(%)', 'educacion I(%)', 'restaurantes_hoteles M(%)',\n",
              "       'restaurantes_hoteles I(%)', 'cuidado_personal M(%)',\n",
              "       'cuidado_personal I(%)'],\n",
              "      dtype='object')"
            ]
          },
          "metadata": {},
          "execution_count": 23
        }
      ]
    },
    {
      "cell_type": "code",
      "source": [
        "exog_vars = ['precio_promedio_venta_USD', 'promedio_valor_USD_anual',\n",
        "       'importaciones_valor_usd',\n",
        "       'importaciones_volumen_kg', 'exportaciones_valor_usd',\n",
        "       'exportaciones_volumen_kg', 'mes_num', 'Inflación Interanual (%)',\n",
        "       'alimentos_bebidas_sin_alcohol M(%)',\n",
        "       'alimentos_bebidas_sin_alcohol I(%)', 'bebidas_alcoholicas_tabaco M(%)',\n",
        "       'bebidas_alcoholicas_tabaco I(%)', 'prendas_de_vestir_calzado M(%)',\n",
        "       'prendas_de_vestir_calzado I(%)',\n",
        "       'alojamiento_agua_electricidad_gas_otroscomb M(%)',\n",
        "       'alojamiento_agua_electricidad_gas_otroscomb I(%)',\n",
        "       'muebles_articulos_hogar M(%)', 'muebles_articulos_hogar I(%)',\n",
        "       'salud M(%)', 'salud I(%)', 'transporte M(%)', 'transporte I(%)',\n",
        "       'comunicaciones M(%)', 'comunicaciones I(%)',\n",
        "       'recreacion _cultura M(%)', 'recreacion _cultura I(%)',\n",
        "       'educacion M(%)', 'educacion I(%)', 'restaurantes_hoteles M(%)',\n",
        "       'restaurantes_hoteles I(%)', 'cuidado_personal M(%)',\n",
        "       'cuidado_personal I(%)']"
      ],
      "metadata": {
        "id": "ZyyM5qlziXEJ"
      },
      "execution_count": 24,
      "outputs": []
    },
    {
      "cell_type": "markdown",
      "source": [
        "## MODEL"
      ],
      "metadata": {
        "id": "IGsuItLUZlIH"
      }
    },
    {
      "cell_type": "code",
      "source": [
        "# SARIMAX\n",
        "sarimax_model = SARIMAX(\n",
        "    endog=y_train,\n",
        "    exog=(X_train[exog_vars]),\n",
        "    order=(2,0,0),\n",
        "    seasonal_order=(1, 0, 2, 12),\n",
        "    enforce_stationarity=False,\n",
        "    enforce_invertibility=False\n",
        ")\n",
        "\n",
        "sarimax_results = sarimax_model.fit(disp=False)\n",
        "\n",
        "print(sarimax_results.summary())"
      ],
      "metadata": {
        "colab": {
          "base_uri": "https://localhost:8080/"
        },
        "id": "GILWCTOJGNac",
        "outputId": "e114ae7a-0cc2-4c01-ac30-fe020579943c"
      },
      "execution_count": 25,
      "outputs": [
        {
          "output_type": "stream",
          "name": "stderr",
          "text": [
            "/usr/local/lib/python3.11/dist-packages/statsmodels/base/model.py:607: ConvergenceWarning: Maximum Likelihood optimization failed to converge. Check mle_retvals\n",
            "  warnings.warn(\"Maximum Likelihood optimization failed to \"\n"
          ]
        },
        {
          "output_type": "stream",
          "name": "stdout",
          "text": [
            "                                        SARIMAX Results                                        \n",
            "===============================================================================================\n",
            "Dep. Variable:                   Inflación Mensual (%)   No. Observations:                  348\n",
            "Model:             SARIMAX(2, 0, 0)x(1, 0, [1, 2], 12)   Log Likelihood                 250.990\n",
            "Date:                                 Sun, 09 Mar 2025   AIC                           -425.981\n",
            "Time:                                         23:24:42   BIC                           -282.430\n",
            "Sample:                                              0   HQIC                          -368.677\n",
            "                                                 - 348                                         \n",
            "Covariance Type:                                   opg                                         \n",
            "====================================================================================================================\n",
            "                                                       coef    std err          z      P>|z|      [0.025      0.975]\n",
            "--------------------------------------------------------------------------------------------------------------------\n",
            "precio_promedio_venta_USD                           -0.0907   3.02e-07     -3e+05      0.000      -0.091      -0.091\n",
            "promedio_valor_USD_anual                             0.0912    3.2e-07   2.85e+05      0.000       0.091       0.091\n",
            "importaciones_valor_usd                          -2.519e-12   1.49e-10     -0.017      0.987   -2.94e-10    2.89e-10\n",
            "importaciones_volumen_kg                         -1.758e-11   1.44e-10     -0.122      0.903   -3.01e-10    2.65e-10\n",
            "exportaciones_valor_usd                          -4.404e-11   2.94e-10     -0.150      0.881   -6.21e-10    5.33e-10\n",
            "exportaciones_volumen_kg                          1.473e-10   1.67e-10      0.882      0.378    -1.8e-10    4.75e-10\n",
            "mes_num                                             -0.0063   2.25e-06  -2815.024      0.000      -0.006      -0.006\n",
            "Inflación Interanual (%)                             0.1044   3.13e-06   3.34e+04      0.000       0.104       0.104\n",
            "alimentos_bebidas_sin_alcohol M(%)                   0.3442    2.1e-06   1.64e+05      0.000       0.344       0.344\n",
            "alimentos_bebidas_sin_alcohol I(%)                  -0.0355   7.79e-06  -4551.820      0.000      -0.035      -0.035\n",
            "bebidas_alcoholicas_tabaco M(%)                      0.0006   1.41e-07   4294.019      0.000       0.001       0.001\n",
            "bebidas_alcoholicas_tabaco I(%)                     -0.0017   3.39e-06   -495.731      0.000      -0.002      -0.002\n",
            "prendas_de_vestir_calzado M(%)                       0.0752   4.29e-07   1.75e+05      0.000       0.075       0.075\n",
            "prendas_de_vestir_calzado I(%)                      -0.0108   6.06e-07  -1.79e+04      0.000      -0.011      -0.011\n",
            "alojamiento_agua_electricidad_gas_otroscomb M(%)     0.2367   1.02e-07   2.31e+06      0.000       0.237       0.237\n",
            "alojamiento_agua_electricidad_gas_otroscomb I(%)    -0.0206   8.94e-07  -2.31e+04      0.000      -0.021      -0.021\n",
            "muebles_articulos_hogar M(%)                         0.0756   3.61e-07   2.09e+05      0.000       0.076       0.076\n",
            "muebles_articulos_hogar I(%)                        -0.0110   9.29e-07  -1.18e+04      0.000      -0.011      -0.011\n",
            "salud M(%)                                           0.0258   4.61e-07   5.61e+04      0.000       0.026       0.026\n",
            "salud I(%)                                          -0.0024   6.75e-06   -351.210      0.000      -0.002      -0.002\n",
            "transporte M(%)                                      0.0566   2.53e-06   2.24e+04      0.000       0.057       0.057\n",
            "transporte I(%)                                     -0.0075    7.5e-06   -996.421      0.000      -0.007      -0.007\n",
            "comunicaciones M(%)                                  0.0024   6.99e-05     34.665      0.000       0.002       0.003\n",
            "comunicaciones I(%)                                 -0.0002      0.000     -2.295      0.022      -0.000   -3.41e-05\n",
            "recreacion _cultura M(%)                             0.0355    5.5e-07   6.45e+04      0.000       0.035       0.035\n",
            "recreacion _cultura I(%)                            -0.0076   6.48e-06  -1171.177      0.000      -0.008      -0.008\n",
            "educacion M(%)                                       0.0211   1.29e-06   1.64e+04      0.000       0.021       0.021\n",
            "educacion I(%)                                      -0.0019   2.33e-07  -8030.348      0.000      -0.002      -0.002\n",
            "restaurantes_hoteles M(%)                           -0.0072    4.7e-07  -1.54e+04      0.000      -0.007      -0.007\n",
            "restaurantes_hoteles I(%)                            0.0019   4.44e-06    432.118      0.000       0.002       0.002\n",
            "cuidado_personal M(%)                               -0.0142   8.45e-07  -1.68e+04      0.000      -0.014      -0.014\n",
            "cuidado_personal I(%)                                0.0398   5.94e-07    6.7e+04      0.000       0.040       0.040\n",
            "ar.L1                                               -0.0566   5.82e-08  -9.74e+05      0.000      -0.057      -0.057\n",
            "ar.L2                                               -0.1810   1.38e-08  -1.31e+07      0.000      -0.181      -0.181\n",
            "ar.S.L12                                             0.1056   4.09e-08   2.58e+06      0.000       0.106       0.106\n",
            "ma.S.L12                                             0.0673   4.63e-08   1.45e+06      0.000       0.067       0.067\n",
            "ma.S.L24                                             0.1187   4.19e-08   2.83e+06      0.000       0.119       0.119\n",
            "sigma2                                               0.0163   9.93e-06   1640.759      0.000       0.016       0.016\n",
            "===================================================================================\n",
            "Ljung-Box (L1) (Q):                   5.38   Jarque-Bera (JB):               550.55\n",
            "Prob(Q):                              0.02   Prob(JB):                         0.00\n",
            "Heteroskedasticity (H):               0.25   Skew:                            -0.72\n",
            "Prob(H) (two-sided):                  0.00   Kurtosis:                         9.23\n",
            "===================================================================================\n",
            "\n",
            "Warnings:\n",
            "[1] Covariance matrix calculated using the outer product of gradients (complex-step).\n",
            "[2] Covariance matrix is singular or near-singular, with condition number 1.78e+23. Standard errors may be unstable.\n"
          ]
        }
      ]
    },
    {
      "cell_type": "markdown",
      "source": [
        "## METRICAS"
      ],
      "metadata": {
        "id": "NBndIBIZaB80"
      }
    },
    {
      "cell_type": "code",
      "source": [
        "# Predicción\n",
        "y_pred_val = sarimax_results.predict(\n",
        "    start=X_val.index[0],\n",
        "    end=X_val.index[-1],\n",
        "    exog=X_val[exog_vars]\n",
        ")\n",
        "\n",
        "# Evaluación\n",
        "mae = mean_absolute_error(y_val, y_pred_val)\n",
        "mdae = median_absolute_error(y_test, y_pred_val)\n",
        "rmse = mean_squared_error(y_val, y_pred_val)\n",
        "mape = np.mean(np.abs((y_val - y_pred_val) / y_val)) * 100\n",
        "smape_value = smape(y_val, y_pred_val)\n",
        "r2 = r2_score(y_val, y_pred_val)\n",
        "\n",
        "print(f\"MAE: {mae:.4f}\")\n",
        "print(f\"MdAE: {mdae:.4f}\")\n",
        "print(f\"RMSE: {rmse:.4f}\")\n",
        "print(f\"MAPE: {mape:.4f}\")\n",
        "print(f\"SMAPE: {smape_value:.4f}\")\n",
        "print(f\"R2: {r2:.4f}\")"
      ],
      "metadata": {
        "colab": {
          "base_uri": "https://localhost:8080/"
        },
        "id": "y6nlK6EMGfZN",
        "outputId": "533fae4c-a9ec-48cc-8d1b-7e3faf0693f2"
      },
      "execution_count": 28,
      "outputs": [
        {
          "output_type": "stream",
          "name": "stdout",
          "text": [
            "MAE: 0.0927\n",
            "MdAE: 0.1844\n",
            "RMSE: 0.0163\n",
            "MAPE: 26.2431\n",
            "SMAPE: 31.4980\n",
            "R2: 0.7935\n"
          ]
        }
      ]
    },
    {
      "cell_type": "markdown",
      "source": [
        "### Análisis de Resultados del Modelo SARIMAX"
      ],
      "metadata": {
        "id": "5LZii0r5aDgz"
      }
    },
    {
      "cell_type": "markdown",
      "source": [
        "**Métricas de Evaluación**\n",
        "\n",
        "| Métrica  | Valor |\n",
        "|----------|-------|\n",
        "| **MAE**  | 0.0927 |\n",
        "| **MdAE** | 0.2887 |\n",
        "| **RMSE** | 0.0163 |\n",
        "| **MAPE** | 26.2431% |\n",
        "| **SMAPE** | 31.4980% |\n",
        "| **R²** | 0.7935 |\n",
        "\n",
        "**Interpretación**\n",
        "\n",
        "- **MAE (0.0927):**  \n",
        "  - El modelo comete, en promedio, un error absoluto de **0.0927 unidades** respecto a los valores reales.  \n",
        "  - **Bajo error**, lo que indica una buena precisión.\n",
        "\n",
        "- **MdAE (0.2887):**  \n",
        "  - Representa la **mediana** del error absoluto, menos sensible a valores extremos.  \n",
        "  - **Mayor que el MAE**, lo que indica la presencia de algunos valores atípicos.\n",
        "\n",
        "- **RMSE (0.0163):**  \n",
        "  - Penaliza más los errores grandes en comparación con el MAE.  \n",
        "  - **Muy bajo**, lo que indica que los errores no son significativos.\n",
        "\n",
        "- **MAPE (26.24%):**  \n",
        "  - En promedio, el modelo se equivoca en un **26.24%** del valor real.  \n",
        "  - **Buen resultado, pero aún con margen de mejora**.\n",
        "\n",
        "- **SMAPE (31.50%):**  \n",
        "  - Más estable ante valores cercanos a cero que el MAPE.  \n",
        "  - **Valor razonable**, pero idealmente debería estar por debajo del 20%.\n",
        "\n",
        "- **R² (0.7935):**  \n",
        "  - Indica que el modelo **explica el 79.35% de la variabilidad** de los datos.  \n",
        "  - **Modelo bien ajustado**, pero aún con posibilidad de mejoras."
      ],
      "metadata": {
        "id": "iP4_uCxkZ2Gm"
      }
    },
    {
      "cell_type": "markdown",
      "source": [
        "## VISUALIZACIÓN"
      ],
      "metadata": {
        "id": "uJrIb4yYaHV_"
      }
    },
    {
      "cell_type": "code",
      "source": [
        "plt.figure(figsize=(10, 5))\n",
        "plt.plot(y_val.index, y_val, label=\"Real\", marker='o')\n",
        "plt.plot(y_val.index, y_pred_val, label=\"Predicción\", linestyle=\"dashed\", marker='x')\n",
        "plt.legend()\n",
        "plt.title(\"Predicción vs Real - Validación\")\n",
        "plt.show()"
      ],
      "metadata": {
        "colab": {
          "base_uri": "https://localhost:8080/",
          "height": 468
        },
        "id": "MwMxfcupG8Vu",
        "outputId": "e48fe841-89d9-4b18-89c8-2a987a3b6f1b"
      },
      "execution_count": 29,
      "outputs": [
        {
          "output_type": "display_data",
          "data": {
            "text/plain": [
              "<Figure size 1000x500 with 1 Axes>"
            ],
            "image/png": "[encoded data removed]"
          },
          "metadata": {}
        }
      ]
    },
    {
      "cell_type": "markdown",
      "source": [
        "## PREDICCIÓN 2024"
      ],
      "metadata": {
        "id": "PVdNOAVOZ4-O"
      }
    },
    {
      "cell_type": "code",
      "source": [
        "y_2024 = pd.DataFrame(y_2024)\n",
        "predicciones_futuras = predecir_n_meses(sarimax_results, X_2024, exog_vars, 13)\n",
        "predicciones_futuras['y_2024'] = y_2024['Inflación Mensual (%)'].values\n",
        "\n",
        "predicciones_futuras"
      ],
      "metadata": {
        "id": "UQiYx7AjGUTS",
        "colab": {
          "base_uri": "https://localhost:8080/",
          "height": 457
        },
        "outputId": "691718bc-c524-4e78-d7fd-84a453d53fb8"
      },
      "execution_count": 30,
      "outputs": [
        {
          "output_type": "execute_result",
          "data": {
            "text/plain": [
              "    Fecha  Predicción    y_2024\n",
              "0     348    0.535843  0.234962\n",
              "1     349    0.584248  0.679794\n",
              "2     350    0.554427  0.488941\n",
              "3     351    0.560485  0.278035\n",
              "4     352    0.552167  0.161738\n",
              "5     353    0.541007  0.322953\n",
              "6     354    0.564708  0.643826\n",
              "7     355    0.589631  0.434087\n",
              "8     356    0.568586  0.045496\n",
              "9     357    0.571414 -0.045475\n",
              "10    358    0.566683  0.113740\n",
              "11    359    0.572023  0.454442\n",
              "12    360    0.548004  0.610722"
            ],
            "text/html": [
              "\n",
              "  <div id=\"df-82fcfdc9-3a49-4ad1-bd9e-217a17bf4cc2\" class=\"colab-df-container\">\n",
              "    <div>\n",
              "<style scoped>\n",
              "    .dataframe tbody tr th:only-of-type {\n",
              "        vertical-align: middle;\n",
              "    }\n",
              "\n",
              "    .dataframe tbody tr th {\n",
              "        vertical-align: top;\n",
              "    }\n",
              "\n",
              "    .dataframe thead th {\n",
              "        text-align: right;\n",
              "    }\n",
              "</style>\n",
              "<table border=\"1\" class=\"dataframe\">\n",
              "  <thead>\n",
              "    <tr style=\"text-align: right;\">\n",
              "      <th></th>\n",
              "      <th>Fecha</th>\n",
              "      <th>Predicción</th>\n",
              "      <th>y_2024</th>\n",
              "    </tr>\n",
              "  </thead>\n",
              "  <tbody>\n",
              "    <tr>\n",
              "      <th>0</th>\n",
              "      <td>348</td>\n",
              "      <td>0.535843</td>\n",
              "      <td>0.234962</td>\n",
              "    </tr>\n",
              "    <tr>\n",
              "      <th>1</th>\n",
              "      <td>349</td>\n",
              "      <td>0.584248</td>\n",
              "      <td>0.679794</td>\n",
              "    </tr>\n",
              "    <tr>\n",
              "      <th>2</th>\n",
              "      <td>350</td>\n",
              "      <td>0.554427</td>\n",
              "      <td>0.488941</td>\n",
              "    </tr>\n",
              "    <tr>\n",
              "      <th>3</th>\n",
              "      <td>351</td>\n",
              "      <td>0.560485</td>\n",
              "      <td>0.278035</td>\n",
              "    </tr>\n",
              "    <tr>\n",
              "      <th>4</th>\n",
              "      <td>352</td>\n",
              "      <td>0.552167</td>\n",
              "      <td>0.161738</td>\n",
              "    </tr>\n",
              "    <tr>\n",
              "      <th>5</th>\n",
              "      <td>353</td>\n",
              "      <td>0.541007</td>\n",
              "      <td>0.322953</td>\n",
              "    </tr>\n",
              "    <tr>\n",
              "      <th>6</th>\n",
              "      <td>354</td>\n",
              "      <td>0.564708</td>\n",
              "      <td>0.643826</td>\n",
              "    </tr>\n",
              "    <tr>\n",
              "      <th>7</th>\n",
              "      <td>355</td>\n",
              "      <td>0.589631</td>\n",
              "      <td>0.434087</td>\n",
              "    </tr>\n",
              "    <tr>\n",
              "      <th>8</th>\n",
              "      <td>356</td>\n",
              "      <td>0.568586</td>\n",
              "      <td>0.045496</td>\n",
              "    </tr>\n",
              "    <tr>\n",
              "      <th>9</th>\n",
              "      <td>357</td>\n",
              "      <td>0.571414</td>\n",
              "      <td>-0.045475</td>\n",
              "    </tr>\n",
              "    <tr>\n",
              "      <th>10</th>\n",
              "      <td>358</td>\n",
              "      <td>0.566683</td>\n",
              "      <td>0.113740</td>\n",
              "    </tr>\n",
              "    <tr>\n",
              "      <th>11</th>\n",
              "      <td>359</td>\n",
              "      <td>0.572023</td>\n",
              "      <td>0.454442</td>\n",
              "    </tr>\n",
              "    <tr>\n",
              "      <th>12</th>\n",
              "      <td>360</td>\n",
              "      <td>0.548004</td>\n",
              "      <td>0.610722</td>\n",
              "    </tr>\n",
              "  </tbody>\n",
              "</table>\n",
              "</div>\n",
              "    <div class=\"colab-df-buttons\">\n",
              "\n",
              "  <div class=\"colab-df-container\">\n",
              "    <button class=\"colab-df-convert\" onclick=\"convertToInteractive('df-82fcfdc9-3a49-4ad1-bd9e-217a17bf4cc2')\"\n",
              "            title=\"Convert this dataframe to an interactive table.\"\n",
              "            style=\"display:none;\">\n",
              "\n",
              "  <svg xmlns=\"http://www.w3.org/2000/svg\" height=\"24px\" viewBox=\"0 -960 960 960\">\n",
              "    <path d=\"M120-120v-720h720v720H120Zm60-500h600v-160H180v160Zm220 220h160v-160H400v160Zm0 220h160v-160H400v160ZM180-400h160v-160H180v160Zm440 0h160v-160H620v160ZM180-180h160v-160H180v160Zm440 0h160v-160H620v160Z\"/>\n",
              "  </svg>\n",
              "    </button>\n",
              "\n",
              "  <style>\n",
              "    .colab-df-container {\n",
              "      display:flex;\n",
              "      gap: 12px;\n",
              "    }\n",
              "\n",
              "    .colab-df-convert {\n",
              "      background-color: #E8F0FE;\n",
              "      border: none;\n",
              "      border-radius: 50%;\n",
              "      cursor: pointer;\n",
              "      display: none;\n",
              "      fill: #1967D2;\n",
              "      height: 32px;\n",
              "      padding: 0 0 0 0;\n",
              "      width: 32px;\n",
              "    }\n",
              "\n",
              "    .colab-df-convert:hover {\n",
              "      background-color: #E2EBFA;\n",
              "      box-shadow: 0px 1px 2px rgba(60, 64, 67, 0.3), 0px 1px 3px 1px rgba(60, 64, 67, 0.15);\n",
              "      fill: #174EA6;\n",
              "    }\n",
              "\n",
              "    .colab-df-buttons div {\n",
              "      margin-bottom: 4px;\n",
              "    }\n",
              "\n",
              "    [theme=dark] .colab-df-convert {\n",
              "      background-color: #3B4455;\n",
              "      fill: #D2E3FC;\n",
              "    }\n",
              "\n",
              "    [theme=dark] .colab-df-convert:hover {\n",
              "      background-color: #434B5C;\n",
              "      box-shadow: 0px 1px 3px 1px rgba(0, 0, 0, 0.15);\n",
              "      filter: drop-shadow(0px 1px 2px rgba(0, 0, 0, 0.3));\n",
              "      fill: #FFFFFF;\n",
              "    }\n",
              "  </style>\n",
              "\n",
              "    <script>\n",
              "      const buttonEl =\n",
              "        document.querySelector('#df-82fcfdc9-3a49-4ad1-bd9e-217a17bf4cc2 button.colab-df-convert');\n",
              "      buttonEl.style.display =\n",
              "        google.colab.kernel.accessAllowed ? 'block' : 'none';\n",
              "\n",
              "      async function convertToInteractive(key) {\n",
              "        const element = document.querySelector('#df-82fcfdc9-3a49-4ad1-bd9e-217a17bf4cc2');\n",
              "        const dataTable =\n",
              "          await google.colab.kernel.invokeFunction('convertToInteractive',\n",
              "                                                    [key], {});\n",
              "        if (!dataTable) return;\n",
              "\n",
              "        const docLinkHtml = 'Like what you see? Visit the ' +\n",
              "          '<a target=\"_blank\" href=https://colab.research.google.com/notebooks/data_table.ipynb>data table notebook</a>'\n",
              "          + ' to learn more about interactive tables.';\n",
              "        element.innerHTML = '';\n",
              "        dataTable['output_type'] = 'display_data';\n",
              "        await google.colab.output.renderOutput(dataTable, element);\n",
              "        const docLink = document.createElement('div');\n",
              "        docLink.innerHTML = docLinkHtml;\n",
              "        element.appendChild(docLink);\n",
              "      }\n",
              "    </script>\n",
              "  </div>\n",
              "\n",
              "\n",
              "<div id=\"df-251fb31f-4e73-4f2f-81b9-b386947b2465\">\n",
              "  <button class=\"colab-df-quickchart\" onclick=\"quickchart('df-251fb31f-4e73-4f2f-81b9-b386947b2465')\"\n",
              "            title=\"Suggest charts\"\n",
              "            style=\"display:none;\">\n",
              "\n",
              "<svg xmlns=\"http://www.w3.org/2000/svg\" height=\"24px\"viewBox=\"0 0 24 24\"\n",
              "     width=\"24px\">\n",
              "    <g>\n",
              "        <path d=\"M19 3H5c-1.1 0-2 .9-2 2v14c0 1.1.9 2 2 2h14c1.1 0 2-.9 2-2V5c0-1.1-.9-2-2-2zM9 17H7v-7h2v7zm4 0h-2V7h2v10zm4 0h-2v-4h2v4z\"/>\n",
              "    </g>\n",
              "</svg>\n",
              "  </button>\n",
              "\n",
              "<style>\n",
              "  .colab-df-quickchart {\n",
              "      --bg-color: #E8F0FE;\n",
              "      --fill-color: #1967D2;\n",
              "      --hover-bg-color: #E2EBFA;\n",
              "      --hover-fill-color: #174EA6;\n",
              "      --disabled-fill-color: #AAA;\n",
              "      --disabled-bg-color: #DDD;\n",
              "  }\n",
              "\n",
              "  [theme=dark] .colab-df-quickchart {\n",
              "      --bg-color: #3B4455;\n",
              "      --fill-color: #D2E3FC;\n",
              "      --hover-bg-color: #434B5C;\n",
              "      --hover-fill-color: #FFFFFF;\n",
              "      --disabled-bg-color: #3B4455;\n",
              "      --disabled-fill-color: #666;\n",
              "  }\n",
              "\n",
              "  .colab-df-quickchart {\n",
              "    background-color: var(--bg-color);\n",
              "    border: none;\n",
              "    border-radius: 50%;\n",
              "    cursor: pointer;\n",
              "    display: none;\n",
              "    fill: var(--fill-color);\n",
              "    height: 32px;\n",
              "    padding: 0;\n",
              "    width: 32px;\n",
              "  }\n",
              "\n",
              "  .colab-df-quickchart:hover {\n",
              "    background-color: var(--hover-bg-color);\n",
              "    box-shadow: 0 1px 2px rgba(60, 64, 67, 0.3), 0 1px 3px 1px rgba(60, 64, 67, 0.15);\n",
              "    fill: var(--button-hover-fill-color);\n",
              "  }\n",
              "\n",
              "  .colab-df-quickchart-complete:disabled,\n",
              "  .colab-df-quickchart-complete:disabled:hover {\n",
              "    background-color: var(--disabled-bg-color);\n",
              "    fill: var(--disabled-fill-color);\n",
              "    box-shadow: none;\n",
              "  }\n",
              "\n",
              "  .colab-df-spinner {\n",
              "    border: 2px solid var(--fill-color);\n",
              "    border-color: transparent;\n",
              "    border-bottom-color: var(--fill-color);\n",
              "    animation:\n",
              "      spin 1s steps(1) infinite;\n",
              "  }\n",
              "\n",
              "  @keyframes spin {\n",
              "    0% {\n",
              "      border-color: transparent;\n",
              "      border-bottom-color: var(--fill-color);\n",
              "      border-left-color: var(--fill-color);\n",
              "    }\n",
              "    20% {\n",
              "      border-color: transparent;\n",
              "      border-left-color: var(--fill-color);\n",
              "      border-top-color: var(--fill-color);\n",
              "    }\n",
              "    30% {\n",
              "      border-color: transparent;\n",
              "      border-left-color: var(--fill-color);\n",
              "      border-top-color: var(--fill-color);\n",
              "      border-right-color: var(--fill-color);\n",
              "    }\n",
              "    40% {\n",
              "      border-color: transparent;\n",
              "      border-right-color: var(--fill-color);\n",
              "      border-top-color: var(--fill-color);\n",
              "    }\n",
              "    60% {\n",
              "      border-color: transparent;\n",
              "      border-right-color: var(--fill-color);\n",
              "    }\n",
              "    80% {\n",
              "      border-color: transparent;\n",
              "      border-right-color: var(--fill-color);\n",
              "      border-bottom-color: var(--fill-color);\n",
              "    }\n",
              "    90% {\n",
              "      border-color: transparent;\n",
              "      border-bottom-color: var(--fill-color);\n",
              "    }\n",
              "  }\n",
              "</style>\n",
              "\n",
              "  <script>\n",
              "    async function quickchart(key) {\n",
              "      const quickchartButtonEl =\n",
              "        document.querySelector('#' + key + ' button');\n",
              "      quickchartButtonEl.disabled = true;  // To prevent multiple clicks.\n",
              "      quickchartButtonEl.classList.add('colab-df-spinner');\n",
              "      try {\n",
              "        const charts = await google.colab.kernel.invokeFunction(\n",
              "            'suggestCharts', [key], {});\n",
              "      } catch (error) {\n",
              "        console.error('Error during call to suggestCharts:', error);\n",
              "      }\n",
              "      quickchartButtonEl.classList.remove('colab-df-spinner');\n",
              "      quickchartButtonEl.classList.add('colab-df-quickchart-complete');\n",
              "    }\n",
              "    (() => {\n",
              "      let quickchartButtonEl =\n",
              "        document.querySelector('#df-251fb31f-4e73-4f2f-81b9-b386947b2465 button');\n",
              "      quickchartButtonEl.style.display =\n",
              "        google.colab.kernel.accessAllowed ? 'block' : 'none';\n",
              "    })();\n",
              "  </script>\n",
              "</div>\n",
              "\n",
              "  <div id=\"id_ad27cd88-3218-4772-bf9d-f8127759de35\">\n",
              "    <style>\n",
              "      .colab-df-generate {\n",
              "        background-color: #E8F0FE;\n",
              "        border: none;\n",
              "        border-radius: 50%;\n",
              "        cursor: pointer;\n",
              "        display: none;\n",
              "        fill: #1967D2;\n",
              "        height: 32px;\n",
              "        padding: 0 0 0 0;\n",
              "        width: 32px;\n",
              "      }\n",
              "\n",
              "      .colab-df-generate:hover {\n",
              "        background-color: #E2EBFA;\n",
              "        box-shadow: 0px 1px 2px rgba(60, 64, 67, 0.3), 0px 1px 3px 1px rgba(60, 64, 67, 0.15);\n",
              "        fill: #174EA6;\n",
              "      }\n",
              "\n",
              "      [theme=dark] .colab-df-generate {\n",
              "        background-color: #3B4455;\n",
              "        fill: #D2E3FC;\n",
              "      }\n",
              "\n",
              "      [theme=dark] .colab-df-generate:hover {\n",
              "        background-color: #434B5C;\n",
              "        box-shadow: 0px 1px 3px 1px rgba(0, 0, 0, 0.15);\n",
              "        filter: drop-shadow(0px 1px 2px rgba(0, 0, 0, 0.3));\n",
              "        fill: #FFFFFF;\n",
              "      }\n",
              "    </style>\n",
              "    <button class=\"colab-df-generate\" onclick=\"generateWithVariable('predicciones_futuras')\"\n",
              "            title=\"Generate code using this dataframe.\"\n",
              "            style=\"display:none;\">\n",
              "\n",
              "  <svg xmlns=\"http://www.w3.org/2000/svg\" height=\"24px\"viewBox=\"0 0 24 24\"\n",
              "       width=\"24px\">\n",
              "    <path d=\"M7,19H8.4L18.45,9,17,7.55,7,17.6ZM5,21V16.75L18.45,3.32a2,2,0,0,1,2.83,0l1.4,1.43a1.91,1.91,0,0,1,.58,1.4,1.91,1.91,0,0,1-.58,1.4L9.25,21ZM18.45,9,17,7.55Zm-12,3A5.31,5.31,0,0,0,4.9,8.1,5.31,5.31,0,0,0,1,6.5,5.31,5.31,0,0,0,4.9,4.9,5.31,5.31,0,0,0,6.5,1,5.31,5.31,0,0,0,8.1,4.9,5.31,5.31,0,0,0,12,6.5,5.46,5.46,0,0,0,6.5,12Z\"/>\n",
              "  </svg>\n",
              "    </button>\n",
              "    <script>\n",
              "      (() => {\n",
              "      const buttonEl =\n",
              "        document.querySelector('#id_ad27cd88-3218-4772-bf9d-f8127759de35 button.colab-df-generate');\n",
              "      buttonEl.style.display =\n",
              "        google.colab.kernel.accessAllowed ? 'block' : 'none';\n",
              "\n",
              "      buttonEl.onclick = () => {\n",
              "        google.colab.notebook.generateWithVariable('predicciones_futuras');\n",
              "      }\n",
              "      })();\n",
              "    </script>\n",
              "  </div>\n",
              "\n",
              "    </div>\n",
              "  </div>\n"
            ],
            "application/vnd.google.colaboratory.intrinsic+json": {
              "type": "dataframe",
              "variable_name": "predicciones_futuras",
              "summary": "{\n  \"name\": \"predicciones_futuras\",\n  \"rows\": 13,\n  \"fields\": [\n    {\n      \"column\": \"Fecha\",\n      \"properties\": {\n        \"dtype\": \"number\",\n        \"std\": 3,\n        \"min\": 348,\n        \"max\": 360,\n        \"num_unique_values\": 13,\n        \"samples\": [\n          359,\n          357,\n          348\n        ],\n        \"semantic_type\": \"\",\n        \"description\": \"\"\n      }\n    },\n    {\n      \"column\": \"Predicci\\u00f3n\",\n      \"properties\": {\n        \"dtype\": \"number\",\n        \"std\": 0.01580196122503258,\n        \"min\": 0.535843262477851,\n        \"max\": 0.589630669181435,\n        \"num_unique_values\": 13,\n        \"samples\": [\n          0.5720229594907508,\n          0.5714137532855981,\n          0.535843262477851\n        ],\n        \"semantic_type\": \"\",\n        \"description\": \"\"\n      }\n    },\n    {\n      \"column\": \"y_2024\",\n      \"properties\": {\n        \"dtype\": \"number\",\n        \"std\": 0.2342808749611281,\n        \"min\": -0.045475216007273556,\n        \"max\": 0.6797937177684066,\n        \"num_unique_values\": 13,\n        \"samples\": [\n          0.4544421722335823,\n          -0.045475216007273556,\n          0.23496240601503793\n        ],\n        \"semantic_type\": \"\",\n        \"description\": \"\"\n      }\n    }\n  ]\n}"
            }
          },
          "metadata": {},
          "execution_count": 30
        }
      ]
    },
    {
      "cell_type": "code",
      "source": [
        "plt.figure(figsize=(10, 5))\n",
        "plt.plot(predicciones_futuras['Fecha'], predicciones_futuras['y_2024'], label=\"Real\", marker='o')\n",
        "plt.plot(predicciones_futuras['Fecha'], predicciones_futuras['Predicción'], label=\"Predicción\", linestyle=\"dashed\", marker='x')\n",
        "plt.legend()\n",
        "plt.title(\"Predicción vs Real - Validación en el año 2024\")\n",
        "plt.show()"
      ],
      "metadata": {
        "colab": {
          "base_uri": "https://localhost:8080/",
          "height": 468
        },
        "id": "by8paAuC4ymm",
        "outputId": "cfb101ff-bff4-4214-f8c2-8fc47fc6026f"
      },
      "execution_count": 31,
      "outputs": [
        {
          "output_type": "display_data",
          "data": {
            "text/plain": [
              "<Figure size 1000x500 with 1 Axes>"
            ],
            "image/png": "[encoded data removed]"
          },
          "metadata": {}
        }
      ]
    },
    {
      "cell_type": "markdown",
      "source": [
        "## DESCARGAR MODELO"
      ],
      "metadata": {
        "id": "DVlosWvSPfnm"
      }
    },
    {
      "cell_type": "code",
      "source": [
        "import pickle\n",
        "\n",
        "# Guardar el modelo en un archivo .pkl\n",
        "with open(\"SARIMAX_MAPE_75%.pkl\", \"wb\") as file:\n",
        "    pickle.dump(sarimax_results, file)\n",
        "\n",
        "print(\"Modelo guardado exitosamente.\")\n"
      ],
      "metadata": {
        "colab": {
          "base_uri": "https://localhost:8080/"
        },
        "id": "ubdE2pYAPWvb",
        "outputId": "804dbe15-bb29-4125-e3a4-10809800fce9"
      },
      "execution_count": 33,
      "outputs": [
        {
          "output_type": "stream",
          "name": "stdout",
          "text": [
            "Modelo guardado exitosamente.\n"
          ]
        }
      ]
    }
  ]
}