{
 "cells": [
  {
   "cell_type": "code",
   "execution_count": null,
   "id": "c97939d4-c115-4734-b283-921d040627c5",
   "metadata": {},
   "outputs": [],
   "source": [
    "import pandas as pd\n",
    "import numpy as np"
   ]
  },
  {
   "cell_type": "code",
   "execution_count": null,
   "id": "c7b78b99-12ee-4973-aaa7-c29bd422d701",
   "metadata": {},
   "outputs": [],
   "source": [
    "file = 'raw_data/data_econocast.csv'\n",
    "\n",
    "data = pd.read_csv(file)\n"
   ]
  },
  {
   "cell_type": "code",
   "execution_count": null,
   "id": "71bfa7cb-5430-4b97-a2f8-ea631a0a7b24",
   "metadata": {},
   "outputs": [],
   "source": [
    "df_revision"
   ]
  }
 ],
 "metadata": {
  "kernelspec": {
   "display_name": "Python 3 (ipykernel)",
   "language": "python",
   "name": "python3"
  },
  "language_info": {
   "codemirror_mode": {
    "name": "ipython",
    "version": 3
   },
   "file_extension": ".py",
   "mimetype": "text/x-python",
   "name": "python",
   "nbconvert_exporter": "python",
   "pygments_lexer": "ipython3",
   "version": "3.10.6"
  }
 },
 "nbformat": 4,
 "nbformat_minor": 5
}
